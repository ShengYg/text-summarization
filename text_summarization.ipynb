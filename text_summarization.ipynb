{
 "cells": [
  {
   "cell_type": "code",
   "execution_count": 1,
   "metadata": {},
   "outputs": [],
   "source": [
    "import tensorflow as tf\n",
    "import numpy as np"
   ]
  },
  {
   "cell_type": "code",
   "execution_count": 2,
   "metadata": {},
   "outputs": [],
   "source": [
    "embeddings = tf.get_variable(\"embeddings\", initializer=tf.random_uniform([4,5,6], -1.0, 1.0))"
   ]
  },
  {
   "cell_type": "code",
   "execution_count": 28,
   "metadata": {},
   "outputs": [],
   "source": [
    "lstm1  = tf.contrib.cudnn_rnn.CudnnLSTM(1, 9, direction=\"unidirectional\",seed=1)\n",
    "lstm2  = tf.contrib.cudnn_rnn.CudnnLSTM(1, 9, direction=\"bidirectional\",seed=1)\n",
    "\n",
    "tf.set_random_seed(2018)\n",
    "_, state1 = lstm1(embeddings)\n",
    "_, state2 = lstm2(embeddings)\n",
    "\n",
    "with tf.Session() as sess:\n",
    "    sess.run(tf.global_variables_initializer())\n",
    "    a, b = sess.run([state1, state2])"
   ]
  },
  {
   "cell_type": "code",
   "execution_count": 21,
   "metadata": {},
   "outputs": [],
   "source": [
    "from io import open\n",
    "from __future__ import print_function\n",
    "\n",
    "a = [[u'1',u'2',u'3'], [u'4',u'5',u'6'], [u'7',u'8',u'9']]\n",
    "with open('./aa', 'w') as f:\n",
    "    for line in a:\n",
    "        f.write(' '.join(line))\n",
    "#         f.write(u'Hello\\n')"
   ]
  },
  {
   "cell_type": "code",
   "execution_count": 27,
   "metadata": {},
   "outputs": [
    {
     "data": {
      "text/plain": [
       "[3]"
      ]
     },
     "execution_count": 27,
     "metadata": {},
     "output_type": "execute_result"
    }
   ],
   "source": [
    "a = [0,1,2,3]\n",
    "b = [i for i in a if i > 2]\n",
    "b"
   ]
  },
  {
   "cell_type": "code",
   "execution_count": null,
   "metadata": {},
   "outputs": [],
   "source": []
  }
 ],
 "metadata": {
  "kernelspec": {
   "display_name": "Python 2",
   "language": "python",
   "name": "python2"
  },
  "language_info": {
   "codemirror_mode": {
    "name": "ipython",
    "version": 2
   },
   "file_extension": ".py",
   "mimetype": "text/x-python",
   "name": "python",
   "nbconvert_exporter": "python",
   "pygments_lexer": "ipython2",
   "version": "2.7.15"
  }
 },
 "nbformat": 4,
 "nbformat_minor": 2
}
